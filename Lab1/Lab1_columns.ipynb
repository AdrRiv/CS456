{
 "cells": [
  {
   "cell_type": "markdown",
   "id": "a4556720-33d0-4c24-a5be-67e58de2f8f1",
   "metadata": {},
   "source": [
    "Good day my name is Adrian Rivera and today I will be ensuring I have the knowledge to properly use Juptyer Notebook as required for Lab 1 of CS456 Fall 2025.  For this first code segment will will be creating a 5 by 50 table that will hold sudent ID numbers their score in a class, major of choice, graduation year and pass or fail."
   ]
  },
  {
   "cell_type": "code",
   "execution_count": 1,
   "id": "14afceaa-87d6-403d-8c5b-e0efe171928f",
   "metadata": {},
   "outputs": [
    {
     "name": "stdout",
     "output_type": "stream",
     "text": [
      "    Student ID  Score       Major  Graduation Year  Pass/Fail (1/0)\n",
      "0           92     75  Psychology             2027                1\n",
      "1           24     68  Psychology             2027                1\n",
      "2           45     79  Psychology             2025                1\n",
      "3           87     66  Psychology             2029                0\n",
      "4           85     81  Psychology             2025                0\n",
      "5           74     77  Psychology             2030                0\n",
      "6           46     96  Psychology             2029                1\n",
      "7           92     85  Psychology             2028                1\n",
      "8           33     61  Psychology             2029                0\n",
      "9           10     62  Psychology             2026                1\n",
      "10          44     81  Psychology             2030                1\n",
      "11          77     90  Psychology             2028                0\n",
      "12          26     98  Psychology             2027                0\n",
      "13          76     77  Psychology             2027                0\n",
      "14          87     69  Psychology             2027                0\n",
      "15          76     73  Psychology             2031                0\n",
      "16          80     84  Psychology             2028                0\n",
      "17          17     86  Psychology             2028                1\n",
      "18          92     92  Psychology             2027                1\n",
      "19          80     90  Psychology             2031                0\n",
      "20          35     95  Psychology             2028                0\n",
      "21          81     82  Psychology             2025                0\n",
      "22           1     67  Psychology             2028                0\n",
      "23          61     93  Psychology             2030                1\n",
      "24          96     68  Psychology             2028                1\n",
      "25           7     92  Psychology             2027                1\n",
      "26          32     88  Psychology             2028                1\n",
      "27          31     99  Psychology             2028                0\n",
      "28          76     80  Psychology             2028                0\n",
      "29          56     68  Psychology             2026                0\n",
      "30          80     70  Psychology             2029                0\n",
      "31          33     82  Psychology             2030                0\n",
      "32          78     77  Psychology             2031                0\n",
      "33          73     99  Psychology             2027                0\n",
      "34          18     82  Psychology             2027                0\n",
      "35          20     82  Psychology             2025                1\n",
      "36          85     98  Psychology             2031                1\n",
      "37          13     81  Psychology             2031                0\n",
      "38          11     94  Psychology             2031                0\n",
      "39           1     68  Psychology             2031                0\n",
      "40          21     92  Psychology             2029                0\n",
      "41          97     90  Psychology             2028                0\n",
      "42          81     88  Psychology             2027                0\n",
      "43          31     69  Psychology             2030                1\n",
      "44          54     87  Psychology             2025                0\n",
      "45          49     74  Psychology             2031                1\n",
      "46          95     89  Psychology             2027                1\n",
      "47          40     94  Psychology             2030                0\n",
      "48          32     73  Psychology             2031                1\n",
      "49          91     83  Psychology             2029                0\n"
     ]
    }
   ],
   "source": [
    "import pandas as pd\n",
    "import numpy as np\n",
    "import random\n",
    "\n",
    "# number of rows and columns\n",
    "n_rows = 50\n",
    "n_col = 5\n",
    "\n",
    "# Dictionaty to hold column data\n",
    "data = {}\n",
    "for i in range(n_col):\n",
    "    # List of majors\n",
    "    majors = 'Art', 'Computer Science', 'Business', 'Psychology', 'Medicine'\n",
    "\n",
    "    # Column Names\n",
    "    column_one = 'Student ID'\n",
    "    column_two = 'Score'\n",
    "    column_three = 'Major'\n",
    "    column_four = 'Graduation Year'\n",
    "    # 1 is a pass 0 is a fail\n",
    "    column_five = 'Pass/Fail (1/0)'\n",
    "\n",
    "    # Random answer generation\n",
    "    data[column_one] = np.random.randint(0, 100, size=n_rows)\n",
    "    data[column_two] = np.random.randint(60, 100, size=n_rows)\n",
    "    data[column_three] = np.random.choice(majors)\n",
    "    data[column_four] = np.random.randint(2025, 2032, size=n_rows)\n",
    "    data[column_five] = np.random.randint(0, 2, size=n_rows)\n",
    "\n",
    "# Creating Pandas DataFrame\n",
    "df = pd.DataFrame(data)\n",
    "\n",
    "# Print the table\n",
    "print(df)"
   ]
  },
  {
   "cell_type": "markdown",
   "id": "d7f1efc5-d813-4ab1-b356-daf075b8c509",
   "metadata": {},
   "source": [
    "In this next segment will will then print out the first and last five lines in the table as well as the data types that each column is using."
   ]
  },
  {
   "cell_type": "code",
   "execution_count": 2,
   "id": "76b32955-be65-45f4-adee-45302ab9d704",
   "metadata": {},
   "outputs": [
    {
     "name": "stdout",
     "output_type": "stream",
     "text": [
      "   Student ID  Score       Major  Graduation Year  Pass/Fail (1/0)\n",
      "0          92     75  Psychology             2027                1\n",
      "1          24     68  Psychology             2027                1\n",
      "2          45     79  Psychology             2025                1\n",
      "3          87     66  Psychology             2029                0\n",
      "4          85     81  Psychology             2025                0\n",
      "    Student ID  Score       Major  Graduation Year  Pass/Fail (1/0)\n",
      "45          49     74  Psychology             2031                1\n",
      "46          95     89  Psychology             2027                1\n",
      "47          40     94  Psychology             2030                0\n",
      "48          32     73  Psychology             2031                1\n",
      "49          91     83  Psychology             2029                0\n",
      "Student ID          int32\n",
      "Score               int32\n",
      "Major              object\n",
      "Graduation Year     int32\n",
      "Pass/Fail (1/0)     int32\n",
      "dtype: object\n"
     ]
    }
   ],
   "source": [
    "# Prints first 5 rows of the table\n",
    "print(df.head())\n",
    "# Prints the last 5 rows of the tables\n",
    "print(df.tail())\n",
    "# Print data types\n",
    "print(df.dtypes)"
   ]
  },
  {
   "cell_type": "markdown",
   "id": "2a1a2d50-b5e5-4564-a942-ca532a4678f8",
   "metadata": {},
   "source": [
    "In this final segment we add a sixth column labeled Grade and convert the numbered scores into a letter grade based on the number."
   ]
  },
  {
   "cell_type": "code",
   "execution_count": 3,
   "id": "e3e96c71-f001-4d47-bb60-1cec6395f878",
   "metadata": {},
   "outputs": [
    {
     "name": "stdout",
     "output_type": "stream",
     "text": [
      "    Student ID  Score       Major  Graduation Year  Pass/Fail (1/0) Grade\n",
      "0           92     75  Psychology             2027                1     C\n",
      "1           24     68  Psychology             2027                1     D\n",
      "2           45     79  Psychology             2025                1     C\n",
      "3           87     66  Psychology             2029                0     D\n",
      "4           85     81  Psychology             2025                0     B\n",
      "5           74     77  Psychology             2030                0     C\n",
      "6           46     96  Psychology             2029                1     A\n",
      "7           92     85  Psychology             2028                1     B\n",
      "8           33     61  Psychology             2029                0     D\n",
      "9           10     62  Psychology             2026                1     D\n",
      "10          44     81  Psychology             2030                1     B\n",
      "11          77     90  Psychology             2028                0     A\n",
      "12          26     98  Psychology             2027                0     A\n",
      "13          76     77  Psychology             2027                0     C\n",
      "14          87     69  Psychology             2027                0     D\n",
      "15          76     73  Psychology             2031                0     C\n",
      "16          80     84  Psychology             2028                0     B\n",
      "17          17     86  Psychology             2028                1     B\n",
      "18          92     92  Psychology             2027                1     A\n",
      "19          80     90  Psychology             2031                0     A\n",
      "20          35     95  Psychology             2028                0     A\n",
      "21          81     82  Psychology             2025                0     B\n",
      "22           1     67  Psychology             2028                0     D\n",
      "23          61     93  Psychology             2030                1     A\n",
      "24          96     68  Psychology             2028                1     D\n",
      "25           7     92  Psychology             2027                1     A\n",
      "26          32     88  Psychology             2028                1     B\n",
      "27          31     99  Psychology             2028                0     A\n",
      "28          76     80  Psychology             2028                0     B\n",
      "29          56     68  Psychology             2026                0     D\n",
      "30          80     70  Psychology             2029                0     C\n",
      "31          33     82  Psychology             2030                0     B\n",
      "32          78     77  Psychology             2031                0     C\n",
      "33          73     99  Psychology             2027                0     A\n",
      "34          18     82  Psychology             2027                0     B\n",
      "35          20     82  Psychology             2025                1     B\n",
      "36          85     98  Psychology             2031                1     A\n",
      "37          13     81  Psychology             2031                0     B\n",
      "38          11     94  Psychology             2031                0     A\n",
      "39           1     68  Psychology             2031                0     D\n",
      "40          21     92  Psychology             2029                0     A\n",
      "41          97     90  Psychology             2028                0     A\n",
      "42          81     88  Psychology             2027                0     B\n",
      "43          31     69  Psychology             2030                1     D\n",
      "44          54     87  Psychology             2025                0     B\n",
      "45          49     74  Psychology             2031                1     C\n",
      "46          95     89  Psychology             2027                1     B\n",
      "47          40     94  Psychology             2030                0     A\n",
      "48          32     73  Psychology             2031                1     C\n",
      "49          91     83  Psychology             2029                0     B\n"
     ]
    }
   ],
   "source": [
    "# Adding sixth column Grade\n",
    "df['Grade'] = 'Default'\n",
    "\n",
    "# Setting letter grades for score\n",
    "def letter(score):\n",
    "    if score >= 90:\n",
    "        return 'A'\n",
    "    elif score >= 80:\n",
    "        return 'B'\n",
    "    elif score >= 70:\n",
    "        return 'C'\n",
    "    elif score >= 60:\n",
    "        return 'D'\n",
    "    else:\n",
    "        return 'F'\n",
    "\n",
    "# Applying grades to score\n",
    "df['Grade'] = df['Score'].apply(letter)\n",
    "\n",
    "\n",
    "print(df)"
   ]
  },
  {
   "cell_type": "code",
   "execution_count": 4,
   "id": "16b69779-b14f-42e7-b7c2-d64b8df8e34e",
   "metadata": {},
   "outputs": [
    {
     "name": "stdout",
     "output_type": "stream",
     "text": [
      "Files have been saved successfully!\n"
     ]
    }
   ],
   "source": [
    "# Saving CSV file with index\n",
    "df.to_csv(\"Adrian_Rivera+Lab1_with_index.csv\")\n",
    "\n",
    "print(\"Files have been saved successfully!\")"
   ]
  },
  {
   "cell_type": "code",
   "execution_count": null,
   "id": "370bb9b1-893d-4e3e-9729-997a16f590e8",
   "metadata": {},
   "outputs": [],
   "source": []
  }
 ],
 "metadata": {
  "kernelspec": {
   "display_name": "Python [conda env:base] *",
   "language": "python",
   "name": "conda-base-py"
  },
  "language_info": {
   "codemirror_mode": {
    "name": "ipython",
    "version": 3
   },
   "file_extension": ".py",
   "mimetype": "text/x-python",
   "name": "python",
   "nbconvert_exporter": "python",
   "pygments_lexer": "ipython3",
   "version": "3.13.5"
  }
 },
 "nbformat": 4,
 "nbformat_minor": 5
}
