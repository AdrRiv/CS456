{
 "cells": [
  {
   "cell_type": "markdown",
   "id": "89e57a07-1d57-4018-8048-8722bd083f13",
   "metadata": {},
   "source": [
    "Lab 3\n",
    "Reading CSV file and creating readable dataframe"
   ]
  },
  {
   "cell_type": "code",
   "execution_count": 36,
   "id": "39860bc9-4d06-4d6d-b2a1-e35d98bf62e7",
   "metadata": {},
   "outputs": [
    {
     "data": {
      "text/html": [
       "<div>\n",
       "<style scoped>\n",
       "    .dataframe tbody tr th:only-of-type {\n",
       "        vertical-align: middle;\n",
       "    }\n",
       "\n",
       "    .dataframe tbody tr th {\n",
       "        vertical-align: top;\n",
       "    }\n",
       "\n",
       "    .dataframe thead th {\n",
       "        text-align: right;\n",
       "    }\n",
       "</style>\n",
       "<table border=\"1\" class=\"dataframe\">\n",
       "  <thead>\n",
       "    <tr style=\"text-align: right;\">\n",
       "      <th></th>\n",
       "      <th>Date Of Stop</th>\n",
       "      <th>Time Of Stop</th>\n",
       "      <th>Description</th>\n",
       "      <th>Location</th>\n",
       "      <th>VehicleType</th>\n",
       "      <th>Year</th>\n",
       "      <th>Make</th>\n",
       "      <th>Model</th>\n",
       "      <th>Color</th>\n",
       "      <th>Violation Type</th>\n",
       "      <th>Race</th>\n",
       "      <th>Gender</th>\n",
       "      <th>Price</th>\n",
       "    </tr>\n",
       "  </thead>\n",
       "  <tbody>\n",
       "    <tr>\n",
       "      <th>0</th>\n",
       "      <td>9/30/14</td>\n",
       "      <td>23:51:00</td>\n",
       "      <td>DRIVER FAILURE TO STOP AT STEADY CIRCULAR RED ...</td>\n",
       "      <td>PARK RD AT HUNGERFORD DR</td>\n",
       "      <td>02 - Automobile</td>\n",
       "      <td>2014.0</td>\n",
       "      <td>FORD</td>\n",
       "      <td>MUSTANG</td>\n",
       "      <td>BLACK</td>\n",
       "      <td>Citation</td>\n",
       "      <td>BLACK</td>\n",
       "      <td>M</td>\n",
       "      <td>7949.0</td>\n",
       "    </tr>\n",
       "    <tr>\n",
       "      <th>1</th>\n",
       "      <td>3/31/15</td>\n",
       "      <td>23:59:00</td>\n",
       "      <td>HEADLIGHTS (*)</td>\n",
       "      <td>CONNECTICUT AT METROPOLITAN AVE</td>\n",
       "      <td>02 - Automobile</td>\n",
       "      <td>2003.0</td>\n",
       "      <td>HONDA</td>\n",
       "      <td>2S</td>\n",
       "      <td>BLUE</td>\n",
       "      <td>ESERO</td>\n",
       "      <td>HISPANIC</td>\n",
       "      <td>M</td>\n",
       "      <td>3022.0</td>\n",
       "    </tr>\n",
       "    <tr>\n",
       "      <th>2</th>\n",
       "      <td>9/30/14</td>\n",
       "      <td>23:30:00</td>\n",
       "      <td>FAILURE TO DISPLAY TWO LIGHTED FRONT LAMPS WHE...</td>\n",
       "      <td>OBSERVATION @ RIDGE ROAD</td>\n",
       "      <td>02 - Automobile</td>\n",
       "      <td>2009.0</td>\n",
       "      <td>TOYOTA</td>\n",
       "      <td>CAMRY</td>\n",
       "      <td>RED</td>\n",
       "      <td>Warning</td>\n",
       "      <td>BLACK</td>\n",
       "      <td>F</td>\n",
       "      <td>4939.0</td>\n",
       "    </tr>\n",
       "    <tr>\n",
       "      <th>3</th>\n",
       "      <td>3/31/15</td>\n",
       "      <td>23:59:00</td>\n",
       "      <td>DRIVER FAILURE TO STOP AT STOP SIGN LINE</td>\n",
       "      <td>W/B PLYERS MILL RD AT METROPOLITAN AVE</td>\n",
       "      <td>02 - Automobile</td>\n",
       "      <td>2007.0</td>\n",
       "      <td>ACURA</td>\n",
       "      <td>MDX</td>\n",
       "      <td>BLACK</td>\n",
       "      <td>Warning</td>\n",
       "      <td>WHITE</td>\n",
       "      <td>F</td>\n",
       "      <td>4105.0</td>\n",
       "    </tr>\n",
       "    <tr>\n",
       "      <th>4</th>\n",
       "      <td>3/31/15</td>\n",
       "      <td>23:58:00</td>\n",
       "      <td>STOP LIGHTS (*)</td>\n",
       "      <td>2355 NB AT BATTERY LN</td>\n",
       "      <td>02 - Automobile</td>\n",
       "      <td>2003.0</td>\n",
       "      <td>NISSAN</td>\n",
       "      <td>MURANO</td>\n",
       "      <td>SILVER</td>\n",
       "      <td>ESERO</td>\n",
       "      <td>OTHER</td>\n",
       "      <td>M</td>\n",
       "      <td>3000.0</td>\n",
       "    </tr>\n",
       "    <tr>\n",
       "      <th>...</th>\n",
       "      <td>...</td>\n",
       "      <td>...</td>\n",
       "      <td>...</td>\n",
       "      <td>...</td>\n",
       "      <td>...</td>\n",
       "      <td>...</td>\n",
       "      <td>...</td>\n",
       "      <td>...</td>\n",
       "      <td>...</td>\n",
       "      <td>...</td>\n",
       "      <td>...</td>\n",
       "      <td>...</td>\n",
       "      <td>...</td>\n",
       "    </tr>\n",
       "    <tr>\n",
       "      <th>803884</th>\n",
       "      <td>9/29/14</td>\n",
       "      <td>14:11:00</td>\n",
       "      <td>TIRES</td>\n",
       "      <td>GREAT SENECA HWY @ GREAT SENECA CREEK</td>\n",
       "      <td>02 - Automobile</td>\n",
       "      <td>1996.0</td>\n",
       "      <td>LEXUS</td>\n",
       "      <td>ES 300 4S</td>\n",
       "      <td>WHITE</td>\n",
       "      <td>ESERO</td>\n",
       "      <td>BLACK</td>\n",
       "      <td>M</td>\n",
       "      <td>500.0</td>\n",
       "    </tr>\n",
       "    <tr>\n",
       "      <th>803885</th>\n",
       "      <td>9/29/14</td>\n",
       "      <td>21:23:00</td>\n",
       "      <td>HEADLIGHTS (*)</td>\n",
       "      <td>7505 DEMOCRACY BLV ,MCG</td>\n",
       "      <td>02 - Automobile</td>\n",
       "      <td>2011.0</td>\n",
       "      <td>KIA</td>\n",
       "      <td>VN</td>\n",
       "      <td>RED</td>\n",
       "      <td>ESERO</td>\n",
       "      <td>BLACK</td>\n",
       "      <td>M</td>\n",
       "      <td>7217.0</td>\n",
       "    </tr>\n",
       "    <tr>\n",
       "      <th>803886</th>\n",
       "      <td>9/29/14</td>\n",
       "      <td>21:37:00</td>\n",
       "      <td>HEADLIGHTS (*)</td>\n",
       "      <td>7300 TUCKERMAN LA AT 10998 WESTLAKE DR</td>\n",
       "      <td>02 - Automobile</td>\n",
       "      <td>2012.0</td>\n",
       "      <td>FIAT</td>\n",
       "      <td>2S</td>\n",
       "      <td>RED</td>\n",
       "      <td>ESERO</td>\n",
       "      <td>WHITE</td>\n",
       "      <td>F</td>\n",
       "      <td>7128.0</td>\n",
       "    </tr>\n",
       "    <tr>\n",
       "      <th>803887</th>\n",
       "      <td>9/28/14</td>\n",
       "      <td>23:33:00</td>\n",
       "      <td>HEADLIGHTS (*)</td>\n",
       "      <td>DARNESTOWN RD @ QUINCE ORCHARD RD</td>\n",
       "      <td>02 - Automobile</td>\n",
       "      <td>1992.0</td>\n",
       "      <td>JEEP</td>\n",
       "      <td>TK</td>\n",
       "      <td>SILVER</td>\n",
       "      <td>ESERO</td>\n",
       "      <td>WHITE</td>\n",
       "      <td>M</td>\n",
       "      <td>500.0</td>\n",
       "    </tr>\n",
       "    <tr>\n",
       "      <th>803888</th>\n",
       "      <td>9/28/14</td>\n",
       "      <td>23:43:00</td>\n",
       "      <td>HEADLIGHTS (*)</td>\n",
       "      <td>DARNESTOWN RD @ QUINCE ORCHARD RD</td>\n",
       "      <td>02 - Automobile</td>\n",
       "      <td>2010.0</td>\n",
       "      <td>HYUN</td>\n",
       "      <td>4S</td>\n",
       "      <td>GRAY</td>\n",
       "      <td>ESERO</td>\n",
       "      <td>WHITE</td>\n",
       "      <td>F</td>\n",
       "      <td>5339.0</td>\n",
       "    </tr>\n",
       "  </tbody>\n",
       "</table>\n",
       "<p>803889 rows × 13 columns</p>\n",
       "</div>"
      ],
      "text/plain": [
       "       Date Of Stop Time Of Stop  \\\n",
       "0           9/30/14     23:51:00   \n",
       "1           3/31/15     23:59:00   \n",
       "2           9/30/14     23:30:00   \n",
       "3           3/31/15     23:59:00   \n",
       "4           3/31/15     23:58:00   \n",
       "...             ...          ...   \n",
       "803884      9/29/14     14:11:00   \n",
       "803885      9/29/14     21:23:00   \n",
       "803886      9/29/14     21:37:00   \n",
       "803887      9/28/14     23:33:00   \n",
       "803888      9/28/14     23:43:00   \n",
       "\n",
       "                                              Description  \\\n",
       "0       DRIVER FAILURE TO STOP AT STEADY CIRCULAR RED ...   \n",
       "1                                          HEADLIGHTS (*)   \n",
       "2       FAILURE TO DISPLAY TWO LIGHTED FRONT LAMPS WHE...   \n",
       "3                DRIVER FAILURE TO STOP AT STOP SIGN LINE   \n",
       "4                                         STOP LIGHTS (*)   \n",
       "...                                                   ...   \n",
       "803884                                              TIRES   \n",
       "803885                                     HEADLIGHTS (*)   \n",
       "803886                                     HEADLIGHTS (*)   \n",
       "803887                                     HEADLIGHTS (*)   \n",
       "803888                                     HEADLIGHTS (*)   \n",
       "\n",
       "                                      Location      VehicleType    Year  \\\n",
       "0                     PARK RD AT HUNGERFORD DR  02 - Automobile  2014.0   \n",
       "1              CONNECTICUT AT METROPOLITAN AVE  02 - Automobile  2003.0   \n",
       "2                     OBSERVATION @ RIDGE ROAD  02 - Automobile  2009.0   \n",
       "3       W/B PLYERS MILL RD AT METROPOLITAN AVE  02 - Automobile  2007.0   \n",
       "4                        2355 NB AT BATTERY LN  02 - Automobile  2003.0   \n",
       "...                                        ...              ...     ...   \n",
       "803884   GREAT SENECA HWY @ GREAT SENECA CREEK  02 - Automobile  1996.0   \n",
       "803885                 7505 DEMOCRACY BLV ,MCG  02 - Automobile  2011.0   \n",
       "803886  7300 TUCKERMAN LA AT 10998 WESTLAKE DR  02 - Automobile  2012.0   \n",
       "803887       DARNESTOWN RD @ QUINCE ORCHARD RD  02 - Automobile  1992.0   \n",
       "803888       DARNESTOWN RD @ QUINCE ORCHARD RD  02 - Automobile  2010.0   \n",
       "\n",
       "          Make      Model   Color Violation Type      Race Gender   Price  \n",
       "0         FORD    MUSTANG   BLACK       Citation     BLACK      M  7949.0  \n",
       "1        HONDA         2S    BLUE          ESERO  HISPANIC      M  3022.0  \n",
       "2       TOYOTA      CAMRY     RED        Warning     BLACK      F  4939.0  \n",
       "3        ACURA        MDX   BLACK        Warning     WHITE      F  4105.0  \n",
       "4       NISSAN     MURANO  SILVER          ESERO     OTHER      M  3000.0  \n",
       "...        ...        ...     ...            ...       ...    ...     ...  \n",
       "803884   LEXUS  ES 300 4S   WHITE          ESERO     BLACK      M   500.0  \n",
       "803885     KIA         VN     RED          ESERO     BLACK      M  7217.0  \n",
       "803886    FIAT         2S     RED          ESERO     WHITE      F  7128.0  \n",
       "803887    JEEP         TK  SILVER          ESERO     WHITE      M   500.0  \n",
       "803888    HYUN         4S    GRAY          ESERO     WHITE      F  5339.0  \n",
       "\n",
       "[803889 rows x 13 columns]"
      ]
     },
     "execution_count": 36,
     "metadata": {},
     "output_type": "execute_result"
    }
   ],
   "source": [
    "import pandas as pd\n",
    "# Creating dataframe, fixing errors of low memory and double type in Vehicle Type column\n",
    "df = pd.read_csv('vehicles_data.csv', dtype={'Vehicle Type': str}, low_memory = False, encoding = \"ISO-8859-1\")\n",
    "df"
   ]
  },
  {
   "cell_type": "markdown",
   "id": "ff1687f3-874b-417b-9065-9f102c6c03c3",
   "metadata": {},
   "source": [
    "Finding the 6th newest year vehicle"
   ]
  },
  {
   "cell_type": "code",
   "execution_count": 67,
   "id": "21daaae0-eb92-432f-9b4f-3523e31bfdaf",
   "metadata": {},
   "outputs": [
    {
     "name": "stdout",
     "output_type": "stream",
     "text": [
      "The 6th newest year vehicle is:\tW3500\n"
     ]
    }
   ],
   "source": [
    "# Sorting Years\n",
    "unique_sorted_year = df['Year'].sort_values(ascending = False).unique()\n",
    "\n",
    "# Trying to find 6th newest year if one could not be found returning error\n",
    "try:\n",
    "    sixth_newest = unique_sorted_year[5]\n",
    "    print(f\"The 6th newest year vehicle is:\\t{sixth_newest}\")\n",
    "except IndexError:\n",
    "    print(\"No year could be found\")"
   ]
  },
  {
   "cell_type": "markdown",
   "id": "8568edd9-de05-4625-a59b-e12d1be9d5c7",
   "metadata": {},
   "source": [
    "Finding 4th oldest year vehicle"
   ]
  },
  {
   "cell_type": "code",
   "execution_count": 68,
   "id": "9254e73c-b38f-4979-9030-228b7af990ad",
   "metadata": {},
   "outputs": [
    {
     "name": "stdout",
     "output_type": "stream",
     "text": [
      "The 4th oldest year vehicle is:\t WRANGLER\n"
     ]
    }
   ],
   "source": [
    "# Sorting Years\n",
    "unique_oldest_year = df['Year'].sort_values(ascending = False).unique()\n",
    "\n",
    "# Trying to find the 4th oldest year if non is found return error\n",
    "try:\n",
    "    fourth_oldest = unique_oldest_year[3]\n",
    "    print(f\"The 4th oldest year vehicle is:\\t {fourth_oldest}\")\n",
    "except IndexError:\n",
    "    print(\"No year could be found\")"
   ]
  },
  {
   "cell_type": "markdown",
   "id": "591037d4-4e75-4ae7-9726-9be182f4566e",
   "metadata": {},
   "source": [
    "finding and counting number number of missing values"
   ]
  },
  {
   "cell_type": "code",
   "execution_count": 69,
   "id": "7034f8fb-a1d3-401c-b80c-5ba1777cc62e",
   "metadata": {},
   "outputs": [
    {
     "name": "stdout",
     "output_type": "stream",
     "text": [
      "Total missing values in the DataFrame: 25450\n"
     ]
    }
   ],
   "source": [
    "# Checking if value is null\n",
    "missing_values_df = df.isnull()\n",
    "\n",
    "# Calculating total missing values\n",
    "total_missing_values = df.isnull().sum().sum()\n",
    "\n",
    "print(\"Total missing values in the DataFrame:\", total_missing_values)"
   ]
  },
  {
   "cell_type": "markdown",
   "id": "87da586e-ccc3-4a26-b45e-0b4187bde362",
   "metadata": {},
   "source": [
    "Creating 5 different tables to show data"
   ]
  },
  {
   "cell_type": "code",
   "execution_count": 82,
   "id": "aecf544c-f672-4c1b-a72a-ab6dc486ec34",
   "metadata": {},
   "outputs": [
    {
     "data": {
      "text/plain": [
       "Violation Type\n",
       "Citation    383053\n",
       "Warning     372428\n",
       "ESERO        46724\n",
       "M              750\n",
       "F               79\n",
       "SERO            26\n",
       "Name: count, dtype: int64"
      ]
     },
     "execution_count": 82,
     "metadata": {},
     "output_type": "execute_result"
    }
   ],
   "source": [
    "import matplotlib.pyplot as plt\n",
    "# Checking the counts for violations\n",
    "df['Violation Type'].value_counts()"
   ]
  },
  {
   "cell_type": "code",
   "execution_count": 83,
   "id": "8cd05964-f470-413f-88d7-30f92e8402a6",
   "metadata": {},
   "outputs": [
    {
     "data": {
      "text/plain": [
       "Violation Type\n",
       "Citation    383053\n",
       "Warning     372428\n",
       "ESERO        46724\n",
       "M              750\n",
       "F               79\n",
       "SERO            26\n",
       "Name: count, dtype: int64"
      ]
     },
     "execution_count": 83,
     "metadata": {},
     "output_type": "execute_result"
    }
   ],
   "source": [
    "# Gathering violation types\n",
    "n = 6\n",
    "violation_list = df['Violation Type'].value_counts()[:n]\n",
    "violation_list"
   ]
  },
  {
   "cell_type": "code",
   "execution_count": 84,
   "id": "ab8066cf-b938-440c-a14f-41280d77317b",
   "metadata": {},
   "outputs": [
    {
     "data": {
      "text/plain": [
       "(Index(['Citation', 'Warning', 'ESERO', 'M', 'F', 'SERO'], dtype='object', name='Violation Type'),\n",
       " [383053, 372428, 46724, 750, 79, 26])"
      ]
     },
     "execution_count": 84,
     "metadata": {},
     "output_type": "execute_result"
    }
   ],
   "source": [
    "# Putting violation types into a list with index\n",
    "violation_list.index, violation_list.to_list()"
   ]
  },
  {
   "cell_type": "code",
   "execution_count": 87,
   "id": "d3bcbbb0-99b1-4020-a488-02bafe9bac64",
   "metadata": {},
   "outputs": [
    {
     "data": {
      "text/plain": [
       "<BarContainer object of 6 artists>"
      ]
     },
     "execution_count": 87,
     "metadata": {},
     "output_type": "execute_result"
    },
    {
     "data": {
      "image/png": "[encoded data removed]",
      "text/plain": [
       "<Figure size 640x480 with 1 Axes>"
      ]
     },
     "metadata": {},
     "output_type": "display_data"
    }
   ],
   "source": [
    "# Creating bar graph\n",
    "plt.bar(violation_list.index, violation_list.to_list())"
   ]
  },
  {
   "cell_type": "markdown",
   "id": "d9b937e2-3ed9-485d-9d12-bae6d5fab5f3",
   "metadata": {},
   "source": [
    "Bar graph showing the amount and type of violations that are within the file"
   ]
  },
  {
   "cell_type": "code",
   "execution_count": null,
   "id": "eff66ea2-a676-44d3-9ada-60261951f638",
   "metadata": {},
   "outputs": [],
   "source": []
  }
 ],
 "metadata": {
  "kernelspec": {
   "display_name": "Python [conda env:base] *",
   "language": "python",
   "name": "conda-base-py"
  },
  "language_info": {
   "codemirror_mode": {
    "name": "ipython",
    "version": 3
   },
   "file_extension": ".py",
   "mimetype": "text/x-python",
   "name": "python",
   "nbconvert_exporter": "python",
   "pygments_lexer": "ipython3",
   "version": "3.13.5"
  }
 },
 "nbformat": 4,
 "nbformat_minor": 5
}
